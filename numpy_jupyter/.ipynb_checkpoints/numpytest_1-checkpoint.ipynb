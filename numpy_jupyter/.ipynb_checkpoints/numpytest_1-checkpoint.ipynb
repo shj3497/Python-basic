{
 "cells": [
  {
   "cell_type": "markdown",
   "id": "absent-stability",
   "metadata": {},
   "source": [
    "### 처음 실행하는 jupyternotebook\n"
   ]
  },
  {
   "cell_type": "code",
   "execution_count": 2,
   "id": "oriented-spanish",
   "metadata": {},
   "outputs": [
    {
     "data": {
      "text/plain": [
       "array([0, 1, 2, 3, 4, 5])"
      ]
     },
     "execution_count": 2,
     "metadata": {},
     "output_type": "execute_result"
    }
   ],
   "source": [
    "import numpy\n",
    "data1 = [0,1,2,3,4,5]\n",
    "a1 = numpy.array(data1)\n",
    "a1"
   ]
  },
  {
   "cell_type": "code",
   "execution_count": 3,
   "id": "trying-azerbaijan",
   "metadata": {},
   "outputs": [
    {
     "data": {
      "text/plain": [
       "dtype('int32')"
      ]
     },
     "execution_count": 3,
     "metadata": {},
     "output_type": "execute_result"
    }
   ],
   "source": [
    "a1.dtype"
   ]
  },
  {
   "cell_type": "code",
   "execution_count": 4,
   "id": "minus-alarm",
   "metadata": {},
   "outputs": [
    {
     "data": {
      "text/plain": [
       "array([0.5 , 2.  , 0.01, 8.  ])"
      ]
     },
     "execution_count": 4,
     "metadata": {},
     "output_type": "execute_result"
    }
   ],
   "source": [
    "numpy.array([0.5, 2, 0.01, 8])"
   ]
  },
  {
   "cell_type": "code",
   "execution_count": 8,
   "id": "exciting-statement",
   "metadata": {},
   "outputs": [
    {
     "data": {
      "text/plain": [
       "array([[1, 2, 3],\n",
       "       [4, 5, 6],\n",
       "       [7, 8, 9]])"
      ]
     },
     "execution_count": 8,
     "metadata": {},
     "output_type": "execute_result"
    }
   ],
   "source": [
    "numpy.array([[1,2,3],[4,5,6],[7,8,9]])"
   ]
  },
  {
   "cell_type": "code",
   "execution_count": 2,
   "id": "assisted-laundry",
   "metadata": {},
   "outputs": [
    {
     "data": {
      "text/plain": [
       "array([ 1.,  2.,  3.,  4.,  5.,  6.,  7.,  8.,  9., 10.])"
      ]
     },
     "execution_count": 2,
     "metadata": {},
     "output_type": "execute_result"
    }
   ],
   "source": [
    "import numpy\n",
    "data10 = numpy.linspace(1,10,10)\n",
    "data10"
   ]
  },
  {
   "cell_type": "code",
   "execution_count": 3,
   "id": "racial-parish",
   "metadata": {},
   "outputs": [
    {
     "data": {
      "text/plain": [
       "<BarContainer object of 4 artists>"
      ]
     },
     "execution_count": 3,
     "metadata": {},
     "output_type": "execute_result"
    },
    {
     "data": {
      "image/png": "[encoded data removed]",
      "text/plain": [
       "<Figure size 432x288 with 1 Axes>"
      ]
     },
     "metadata": {
      "needs_background": "light"
     },
     "output_type": "display_data"
    }
   ],
   "source": [
    "import numpy\n",
    "import matplotlib.pyplot as plt\n",
    "\n",
    "member_IDs = ['m_01', 'm_02', 'm_03', 'm_04'] # 회원 ID\n",
    "before_ex = [27,35,40,33]\n",
    "after_ex = [30,38,42,37]\n",
    "\n",
    "n_data = len(member_IDs)\n",
    "index = numpy.arange(n_data)\n",
    "plt.bar(index, before_ex) # bar(x,y)에서 x=index, height=before_ex로 지정"
   ]
  },
  {
   "cell_type": "code",
   "execution_count": null,
   "id": "soviet-catering",
   "metadata": {},
   "outputs": [],
   "source": [
    "import numpy\n",
    "import matplotlib.pyplot as plt\n",
    "\n",
    "member_IDs = ['m_01', 'm_02', 'm_03', 'm_04'] # 회원 ID\n",
    "before_ex = [27,35,40,33]\n",
    "after_ex = [30,38,42,37]\n",
    "colors = ['r','g','b','m']\n",
    "\n",
    "n_data = len(member_IDs)\n",
    "index = numpy.arange(n_data)\n",
    "#plt.bar(index, before_ex) # bar(x,y)에서 x=index, height=before_ex로 지정\n",
    "plt.barh(index, before_ex, tick_label=member_IDs, color=colors) # x축의 tick 라벨을 member_IDs로 지정했다.\n",
    "plt.show()"
   ]
  }
 ],
 "metadata": {
  "kernelspec": {
   "display_name": "Python 3",
   "language": "python",
   "name": "python3"
  },
  "language_info": {
   "codemirror_mode": {
    "name": "ipython",
    "version": 3
   },
   "file_extension": ".py",
   "mimetype": "text/x-python",
   "name": "python",
   "nbconvert_exporter": "python",
   "pygments_lexer": "ipython3",
   "version": "3.7.4"
  }
 },
 "nbformat": 4,
 "nbformat_minor": 5
}
