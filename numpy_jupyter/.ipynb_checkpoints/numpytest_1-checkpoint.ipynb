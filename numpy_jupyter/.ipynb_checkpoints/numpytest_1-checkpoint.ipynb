{
 "cells": [
  {
   "cell_type": "markdown",
   "id": "absent-stability",
   "metadata": {},
   "source": [
    "### 처음 실행하는 jupyternotebook\n"
   ]
  },
  {
   "cell_type": "code",
   "execution_count": 2,
   "id": "oriented-spanish",
   "metadata": {},
   "outputs": [
    {
     "data": {
      "text/plain": [
       "array([0, 1, 2, 3, 4, 5])"
      ]
     },
     "execution_count": 2,
     "metadata": {},
     "output_type": "execute_result"
    }
   ],
   "source": [
    "import numpy\n",
    "data1 = [0,1,2,3,4,5]\n",
    "a1 = numpy.array(data1)\n",
    "a1"
   ]
  },
  {
   "cell_type": "code",
   "execution_count": 3,
   "id": "trying-azerbaijan",
   "metadata": {},
   "outputs": [
    {
     "data": {
      "text/plain": [
       "dtype('int32')"
      ]
     },
     "execution_count": 3,
     "metadata": {},
     "output_type": "execute_result"
    }
   ],
   "source": [
    "a1.dtype"
   ]
  },
  {
   "cell_type": "code",
   "execution_count": 4,
   "id": "minus-alarm",
   "metadata": {},
   "outputs": [
    {
     "data": {
      "text/plain": [
       "array([0.5 , 2.  , 0.01, 8.  ])"
      ]
     },
     "execution_count": 4,
     "metadata": {},
     "output_type": "execute_result"
    }
   ],
   "source": [
    "numpy.array([0.5, 2, 0.01, 8])"
   ]
  },
  {
   "cell_type": "code",
   "execution_count": 8,
   "id": "exciting-statement",
   "metadata": {},
   "outputs": [
    {
     "data": {
      "text/plain": [
       "array([[1, 2, 3],\n",
       "       [4, 5, 6],\n",
       "       [7, 8, 9]])"
      ]
     },
     "execution_count": 8,
     "metadata": {},
     "output_type": "execute_result"
    }
   ],
   "source": [
    "numpy.array([[1,2,3],[4,5,6],[7,8,9]])"
   ]
  },
  {
   "cell_type": "code",
   "execution_count": 2,
   "id": "assisted-laundry",
   "metadata": {},
   "outputs": [
    {
     "data": {
      "text/plain": [
       "array([ 1.,  2.,  3.,  4.,  5.,  6.,  7.,  8.,  9., 10.])"
      ]
     },
     "execution_count": 2,
     "metadata": {},
     "output_type": "execute_result"
    }
   ],
   "source": [
    "import numpy\n",
    "data10 = numpy.linspace(1,10,10)\n",
    "data10"
   ]
  },
  {
   "cell_type": "code",
   "execution_count": 4,
   "id": "mechanical-vertex",
   "metadata": {},
   "outputs": [
    {
     "ename": "ModuleNotFoundError",
     "evalue": "No module named 'xmltodict'",
     "output_type": "error",
     "traceback": [
      "\u001b[1;31m---------------------------------------------------------------------------\u001b[0m",
      "\u001b[1;31mModuleNotFoundError\u001b[0m                       Traceback (most recent call last)",
      "\u001b[1;32m<ipython-input-4-207b84a7f9a2>\u001b[0m in \u001b[0;36m<module>\u001b[1;34m\u001b[0m\n\u001b[1;32m----> 1\u001b[1;33m \u001b[1;32mimport\u001b[0m \u001b[0mxmltodict\u001b[0m\u001b[1;33m\u001b[0m\u001b[1;33m\u001b[0m\u001b[0m\n\u001b[0m\u001b[0;32m      2\u001b[0m \u001b[1;33m\u001b[0m\u001b[0m\n\u001b[0;32m      3\u001b[0m xml_data = \"\"\"\n\u001b[0;32m      4\u001b[0m \u001b[1;33m<\u001b[0m\u001b[0;31m?\u001b[0m\u001b[0mxml\u001b[0m \u001b[0mversion\u001b[0m\u001b[1;33m=\u001b[0m\u001b[1;34m\"1.0\"\u001b[0m \u001b[0mencoding\u001b[0m\u001b[1;33m=\u001b[0m\u001b[1;34m\"UTF-8\"\u001b[0m\u001b[0;31m \u001b[0m\u001b[0;31m?\u001b[0m\u001b[1;33m>\u001b[0m\u001b[1;33m\u001b[0m\u001b[1;33m\u001b[0m\u001b[0m\n\u001b[0;32m      5\u001b[0m     \u001b[1;33m<\u001b[0m\u001b[0m사용자정보\u001b[0m\u001b[1;33m>\u001b[0m\u001b[1;33m\u001b[0m\u001b[1;33m\u001b[0m\u001b[0m\n",
      "\u001b[1;31mModuleNotFoundError\u001b[0m: No module named 'xmltodict'"
     ]
    }
   ],
   "source": [
    "import xmltodict\n",
    "\n",
    "xml_data = \"\"\"\n",
    "<?xml version=\"1.0\" encoding=\"UTF-8\" ?>\n",
    "    <사용자정보>\n",
    "        <이름>홍길동</이름>\n",
    "        <나이>25</나이>\n",
    "        <거주지>서울</거주지>\n",
    "        <신체정보>\n",
    "            <키 unit=\"cm\">175.4</키>\n",
    "            <몸무게 unit=\"kg\">71.2</몸무게>\n",
    "        </신체정보>\n",
    "        <취미>등산</취미>\n",
    "        <취미>자전거타기</취미>\n",
    "        <취미>독서</취미>\n",
    "    </사용자정보>\n",
    "\"\"\"\n",
    "\n",
    "\n"
   ]
  },
  {
   "cell_type": "code",
   "execution_count": 11,
   "id": "prerequisite-centre",
   "metadata": {},
   "outputs": [
    {
     "name": "stdout",
     "output_type": "stream",
     "text": [
      "\n",
      "<?xml version=\"1.0\" encoding=\"UTF-8\" ?>\n",
      "    <사용자정보>\n",
      "        <이름>홍길동</이름>\n",
      "        <나이>25</나이>\n",
      "        <거주지>서울</거주지>\n",
      "        <신체정보>\n",
      "            <키 unit=\"cm\">175.4</키>\n",
      "            <몸무게 unit=\"kg\">71.2</몸무게>\n",
      "        </신체정보>\n",
      "        <취미>등산</취미>\n",
      "        <취미>자전거타기</취미>\n",
      "        <취미>독서</취미>\n",
      "    </사용자정보>\n",
      "\n"
     ]
    },
    {
     "ename": "ExpatError",
     "evalue": "XML or text declaration not at start of entity: line 2, column 0",
     "output_type": "error",
     "traceback": [
      "\u001b[1;31m---------------------------------------------------------------------------\u001b[0m",
      "\u001b[1;31mExpatError\u001b[0m                                Traceback (most recent call last)",
      "\u001b[1;32m<ipython-input-11-d99857aff37d>\u001b[0m in \u001b[0;36m<module>\u001b[1;34m\u001b[0m\n\u001b[0;32m     16\u001b[0m \"\"\"\n\u001b[0;32m     17\u001b[0m \u001b[0mprint\u001b[0m\u001b[1;33m(\u001b[0m\u001b[0mxml_data\u001b[0m\u001b[1;33m)\u001b[0m\u001b[1;33m\u001b[0m\u001b[1;33m\u001b[0m\u001b[0m\n\u001b[1;32m---> 18\u001b[1;33m \u001b[0mdict_data\u001b[0m \u001b[1;33m=\u001b[0m \u001b[0mxmltodict\u001b[0m\u001b[1;33m.\u001b[0m\u001b[0mparse\u001b[0m\u001b[1;33m(\u001b[0m\u001b[0mxml_data\u001b[0m\u001b[1;33m,\u001b[0m \u001b[0mxml_attribs\u001b[0m\u001b[1;33m=\u001b[0m\u001b[1;32mTrue\u001b[0m\u001b[1;33m)\u001b[0m\u001b[1;33m\u001b[0m\u001b[1;33m\u001b[0m\u001b[0m\n\u001b[0m\u001b[0;32m     19\u001b[0m \u001b[0mprint\u001b[0m\u001b[1;33m(\u001b[0m\u001b[0mdict_data\u001b[0m\u001b[1;33m)\u001b[0m\u001b[1;33m\u001b[0m\u001b[1;33m\u001b[0m\u001b[0m\n",
      "\u001b[1;32mc:\\users\\shj34\\appdata\\local\\programs\\python\\python37\\lib\\site-packages\\xmltodict.py\u001b[0m in \u001b[0;36mparse\u001b[1;34m(xml_input, encoding, expat, process_namespaces, namespace_separator, disable_entities, **kwargs)\u001b[0m\n\u001b[0;32m    325\u001b[0m         \u001b[0mparser\u001b[0m\u001b[1;33m.\u001b[0m\u001b[0mParseFile\u001b[0m\u001b[1;33m(\u001b[0m\u001b[0mxml_input\u001b[0m\u001b[1;33m)\u001b[0m\u001b[1;33m\u001b[0m\u001b[1;33m\u001b[0m\u001b[0m\n\u001b[0;32m    326\u001b[0m     \u001b[1;32melse\u001b[0m\u001b[1;33m:\u001b[0m\u001b[1;33m\u001b[0m\u001b[1;33m\u001b[0m\u001b[0m\n\u001b[1;32m--> 327\u001b[1;33m         \u001b[0mparser\u001b[0m\u001b[1;33m.\u001b[0m\u001b[0mParse\u001b[0m\u001b[1;33m(\u001b[0m\u001b[0mxml_input\u001b[0m\u001b[1;33m,\u001b[0m \u001b[1;32mTrue\u001b[0m\u001b[1;33m)\u001b[0m\u001b[1;33m\u001b[0m\u001b[1;33m\u001b[0m\u001b[0m\n\u001b[0m\u001b[0;32m    328\u001b[0m     \u001b[1;32mreturn\u001b[0m \u001b[0mhandler\u001b[0m\u001b[1;33m.\u001b[0m\u001b[0mitem\u001b[0m\u001b[1;33m\u001b[0m\u001b[1;33m\u001b[0m\u001b[0m\n\u001b[0;32m    329\u001b[0m \u001b[1;33m\u001b[0m\u001b[0m\n",
      "\u001b[1;31mExpatError\u001b[0m: XML or text declaration not at start of entity: line 2, column 0"
     ]
    }
   ],
   "source": [
    "import xmltodict\n",
    "xml_data = \"\"\"\n",
    "<?xml version=\"1.0\" encoding=\"UTF-8\" ?>\n",
    "    <사용자정보>\n",
    "        <이름>홍길동</이름>\n",
    "        <나이>25</나이>\n",
    "        <거주지>서울</거주지>\n",
    "        <신체정보>\n",
    "            <키 unit=\"cm\">175.4</키>\n",
    "            <몸무게 unit=\"kg\">71.2</몸무게>\n",
    "        </신체정보>\n",
    "        <취미>등산</취미>\n",
    "        <취미>자전거타기</취미>\n",
    "        <취미>독서</취미>\n",
    "    </사용자정보>\n",
    "\"\"\"\n",
    "print(xml_data)\n",
    "dict_data = xmltodict.parse(xml_data, xml_attribs=True)\n",
    "print(dict_data)"
   ]
  }
 ],
 "metadata": {
  "kernelspec": {
   "display_name": "Python 3",
   "language": "python",
   "name": "python3"
  },
  "language_info": {
   "codemirror_mode": {
    "name": "ipython",
    "version": 3
   },
   "file_extension": ".py",
   "mimetype": "text/x-python",
   "name": "python",
   "nbconvert_exporter": "python",
   "pygments_lexer": "ipython3",
   "version": "3.7.4"
  }
 },
 "nbformat": 4,
 "nbformat_minor": 5
}
